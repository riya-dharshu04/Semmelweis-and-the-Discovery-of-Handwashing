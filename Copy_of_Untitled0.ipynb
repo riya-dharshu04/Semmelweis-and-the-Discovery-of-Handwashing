{
  "nbformat": 4,
  "nbformat_minor": 0,
  "metadata": {
    "colab": {
      "provenance": []
    },
    "kernelspec": {
      "name": "python3",
      "display_name": "Python 3"
    },
    "language_info": {
      "name": "python"
    }
  },
  "cells": [
    {
      "cell_type": "code",
      "execution_count": null,
      "metadata": {
        "id": "nBZHdn1pxQ6D"
      },
      "outputs": [],
      "source": [
        "import numpy as np\n",
        "import pandas as pd"
      ]
    },
    {
      "cell_type": "code",
      "source": [
        "from google.colab import drive"
      ],
      "metadata": {
        "id": "TcaQ9AydyuEs"
      },
      "execution_count": null,
      "outputs": []
    },
    {
      "cell_type": "code",
      "source": [
        "drive.mount('/content/drive')"
      ],
      "metadata": {
        "colab": {
          "base_uri": "https://localhost:8080/"
        },
        "id": "DcFlY2TWzeW4",
        "outputId": "e94c8636-6935-45e9-c053-c083e2d15460"
      },
      "execution_count": null,
      "outputs": [
        {
          "output_type": "stream",
          "name": "stdout",
          "text": [
            "Mounted at /content/drive\n"
          ]
        }
      ]
    },
    {
      "cell_type": "code",
      "source": [
        "file_path = 'semmelweis_data.csv.xlsx'"
      ],
      "metadata": {
        "id": "w_SzMNpdz16X"
      },
      "execution_count": null,
      "outputs": []
    },
    {
      "cell_type": "code",
      "source": [
        "import os\n",
        "\n",
        "# List the files in the current directory\n",
        "os.listdir()"
      ],
      "metadata": {
        "colab": {
          "base_uri": "https://localhost:8080/"
        },
        "id": "2TgFZCaqxpZ6",
        "outputId": "e99fa228-5704-46ae-c45d-e295477a28b9"
      },
      "execution_count": null,
      "outputs": [
        {
          "output_type": "execute_result",
          "data": {
            "text/plain": [
              "['.config', 'drive', 'sample_data']"
            ]
          },
          "metadata": {},
          "execution_count": 6
        }
      ]
    },
    {
      "cell_type": "code",
      "source": [
        "drive.mount(\"/content/gdrive\", force_remount=True)"
      ],
      "metadata": {
        "colab": {
          "base_uri": "https://localhost:8080/"
        },
        "id": "x2yDV-IHx0e5",
        "outputId": "01e50c0f-d70a-4f8a-e314-f27421f7f9ef"
      },
      "execution_count": null,
      "outputs": [
        {
          "output_type": "stream",
          "name": "stdout",
          "text": [
            "Mounted at /content/gdrive\n"
          ]
        }
      ]
    },
    {
      "cell_type": "code",
      "source": [
        "drive.mount('/content/gdrive', force_remount=False)"
      ],
      "metadata": {
        "colab": {
          "base_uri": "https://localhost:8080/"
        },
        "id": "CSmOnAQN0e2_",
        "outputId": "0c5f43ca-9395-4754-ef1a-4a7c4d01889c"
      },
      "execution_count": null,
      "outputs": [
        {
          "output_type": "stream",
          "name": "stdout",
          "text": [
            "Drive already mounted at /content/gdrive; to attempt to forcibly remount, call drive.mount(\"/content/gdrive\", force_remount=True).\n"
          ]
        }
      ]
    },
    {
      "cell_type": "code",
      "source": [
        "file_path = '/content/gdrive/MyDrive/semmelweis_data.csv.xlsx'"
      ],
      "metadata": {
        "id": "PHm1ps8w0wMQ"
      },
      "execution_count": null,
      "outputs": []
    },
    {
      "cell_type": "code",
      "source": [
        "import pandas as pd\n",
        "\n",
        "# Create a DataFrame from the provided data\n",
        "data = {\n",
        "    'year': [1841, 1842, 1843, 1844, 1845, 1846, 1841, 1842, 1843, 1844, 1845, 1846],\n",
        "    'births': [3036, 3287, 3060, 3157, 3492, 4010, 2442, 2659, 2739, 2956, 3241, 3754],\n",
        "    'deaths': [237, 518, 274, 260, 241, 459, 86, 202, 164, 68, 66, 105],\n",
        "    'clinic': ['clinic 1', 'clinic 1', 'clinic 1', 'clinic 1', 'clinic 1', 'clinic 1',\n",
        "               'clinic 2', 'clinic 2', 'clinic 2', 'clinic 2', 'clinic 2', 'clinic 2'],\n",
        "    'handwashing': ['before', 'before', 'before', 'after', 'after', 'after',\n",
        "                    'before', 'before', 'before', 'after', 'after', 'after']\n",
        "}"
      ],
      "metadata": {
        "id": "saq5A2gO091c"
      },
      "execution_count": null,
      "outputs": []
    },
    {
      "cell_type": "code",
      "source": [
        "df = pd.DataFrame(data)"
      ],
      "metadata": {
        "id": "7eWdkib11JM5"
      },
      "execution_count": null,
      "outputs": []
    },
    {
      "cell_type": "code",
      "source": [
        "total_births_per_clinic = df.groupby('clinic')['births'].sum()\n",
        "total_deaths_per_clinic = df.groupby('clinic')['deaths'].sum()"
      ],
      "metadata": {
        "id": "e8JvO0nB1V1o"
      },
      "execution_count": null,
      "outputs": []
    },
    {
      "cell_type": "code",
      "source": [
        "print(\"Total Births per Clinic:\")\n",
        "print(total_births_per_clinic)\n",
        "print()"
      ],
      "metadata": {
        "colab": {
          "base_uri": "https://localhost:8080/"
        },
        "id": "2_ynOXjr1eBl",
        "outputId": "9ffd3488-8c46-4ef5-e020-b0cb29d9288e"
      },
      "execution_count": null,
      "outputs": [
        {
          "output_type": "stream",
          "name": "stdout",
          "text": [
            "Total Births per Clinic:\n",
            "clinic\n",
            "clinic 1    20042\n",
            "clinic 2    17791\n",
            "Name: births, dtype: int64\n",
            "\n"
          ]
        }
      ]
    },
    {
      "cell_type": "code",
      "source": [
        "print(\"Total Deaths per Clinic:\")\n",
        "print(total_deaths_per_clinic)"
      ],
      "metadata": {
        "colab": {
          "base_uri": "https://localhost:8080/"
        },
        "id": "1k14vD7Q1l1j",
        "outputId": "4ae871a1-99be-435b-a22c-80a728a699fb"
      },
      "execution_count": null,
      "outputs": [
        {
          "output_type": "stream",
          "name": "stdout",
          "text": [
            "Total Deaths per Clinic:\n",
            "clinic\n",
            "clinic 1    1989\n",
            "clinic 2     691\n",
            "Name: deaths, dtype: int64\n"
          ]
        }
      ]
    },
    {
      "cell_type": "code",
      "source": [
        "average_births_per_year_per_clinic = df.groupby(['clinic', 'year'])['births'].mean()\n",
        "average_deaths_per_year_per_clinic = df.groupby(['clinic', 'year'])['deaths'].mean()"
      ],
      "metadata": {
        "id": "Jv5REqbm1yPl"
      },
      "execution_count": null,
      "outputs": []
    },
    {
      "cell_type": "code",
      "source": [
        "total_births_per_year = df.groupby('year')['births'].sum()\n",
        "total_deaths_per_year = df.groupby('year')['deaths'].sum()"
      ],
      "metadata": {
        "id": "wPPN52BQ18SD"
      },
      "execution_count": null,
      "outputs": []
    },
    {
      "cell_type": "code",
      "source": [
        "bootstrap_samples = 1000  # Number of bootstrap samples\n",
        "bootstrap_results = []"
      ],
      "metadata": {
        "id": "1JEcajqU2Iiv"
      },
      "execution_count": null,
      "outputs": []
    },
    {
      "cell_type": "code",
      "source": [
        "for _ in range(bootstrap_samples):\n",
        "    bootstrap_sample = df.sample(frac=1, replace=True)\n",
        "    bootstrap_births_per_clinic = bootstrap_sample.groupby('clinic')['births'].sum()\n",
        "    bootstrap_deaths_per_clinic = bootstrap_sample.groupby('clinic')['deaths'].sum()\n",
        "    bootstrap_diff = bootstrap_births_per_clinic - bootstrap_deaths_per_clinic\n",
        "    bootstrap_results.append(bootstrap_diff)"
      ],
      "metadata": {
        "id": "mYKpCiRF2jBp"
      },
      "execution_count": null,
      "outputs": []
    },
    {
      "cell_type": "code",
      "source": [
        "probability_fewer_deaths = sum(result[0] < result[1] for result in bootstrap_results) / bootstrap_samples"
      ],
      "metadata": {
        "id": "AmHCzAnh2rjg"
      },
      "execution_count": null,
      "outputs": []
    },
    {
      "cell_type": "code",
      "source": [
        "print(\"Average Births per Year per Clinic:\")\n",
        "print(average_births_per_year_per_clinic)\n",
        "print()\n",
        "\n",
        "print(\"Average Deaths per Year per Clinic:\")\n",
        "print(average_deaths_per_year_per_clinic)\n",
        "print()"
      ],
      "metadata": {
        "colab": {
          "base_uri": "https://localhost:8080/"
        },
        "id": "swm5bh_P20Tm",
        "outputId": "ed484494-cfd3-4ed2-e7d2-afadb91d4321"
      },
      "execution_count": null,
      "outputs": [
        {
          "output_type": "stream",
          "name": "stdout",
          "text": [
            "Average Births per Year per Clinic:\n",
            "clinic    year\n",
            "clinic 1  1841    3036.0\n",
            "          1842    3287.0\n",
            "          1843    3060.0\n",
            "          1844    3157.0\n",
            "          1845    3492.0\n",
            "          1846    4010.0\n",
            "clinic 2  1841    2442.0\n",
            "          1842    2659.0\n",
            "          1843    2739.0\n",
            "          1844    2956.0\n",
            "          1845    3241.0\n",
            "          1846    3754.0\n",
            "Name: births, dtype: float64\n",
            "\n",
            "Average Deaths per Year per Clinic:\n",
            "clinic    year\n",
            "clinic 1  1841    237.0\n",
            "          1842    518.0\n",
            "          1843    274.0\n",
            "          1844    260.0\n",
            "          1845    241.0\n",
            "          1846    459.0\n",
            "clinic 2  1841     86.0\n",
            "          1842    202.0\n",
            "          1843    164.0\n",
            "          1844     68.0\n",
            "          1845     66.0\n",
            "          1846    105.0\n",
            "Name: deaths, dtype: float64\n",
            "\n"
          ]
        }
      ]
    },
    {
      "cell_type": "code",
      "source": [
        "print(\"Probability of Clinic 1 having fewer deaths than Clinic 2 (bootstrap analysis):\")\n",
        "print(probability_fewer_deaths)"
      ],
      "metadata": {
        "colab": {
          "base_uri": "https://localhost:8080/"
        },
        "id": "8Z7I6s2s27F-",
        "outputId": "09f6cbe2-9fb5-4f96-bb08-9bf4e63ca8ba"
      },
      "execution_count": null,
      "outputs": [
        {
          "output_type": "stream",
          "name": "stdout",
          "text": [
            "Probability of Clinic 1 having fewer deaths than Clinic 2 (bootstrap analysis):\n",
            "0.423\n"
          ]
        }
      ]
    },
    {
      "cell_type": "code",
      "source": [
        "df = pd.DataFrame(data)"
      ],
      "metadata": {
        "id": "7bREO7yF3CiJ"
      },
      "execution_count": null,
      "outputs": []
    },
    {
      "cell_type": "code",
      "source": [
        "# Calculate the number of deaths before and after handwashing\n",
        "deaths_before = df[df['handwashing'] == 'before']['deaths'].sum()\n",
        "deaths_after = df[df['handwashing'] == 'after']['deaths'].sum()\n"
      ],
      "metadata": {
        "id": "qKUoCMSX3ItX"
      },
      "execution_count": null,
      "outputs": []
    },
    {
      "cell_type": "code",
      "source": [
        "# Print the results\n",
        "print(\"Number of Deaths Before Handwashing:\", deaths_before)\n",
        "print(\"Number of Deaths After Handwashing:\", deaths_after)"
      ],
      "metadata": {
        "colab": {
          "base_uri": "https://localhost:8080/"
        },
        "id": "Om-mmG6x3PP0",
        "outputId": "a91110b2-71b6-4fe1-a7cc-6a25cf1f395a"
      },
      "execution_count": null,
      "outputs": [
        {
          "output_type": "stream",
          "name": "stdout",
          "text": [
            "Number of Deaths Before Handwashing: 1481\n",
            "Number of Deaths After Handwashing: 1199\n"
          ]
        }
      ]
    },
    {
      "cell_type": "code",
      "source": [],
      "metadata": {
        "id": "DGEM-YGp3VCm"
      },
      "execution_count": null,
      "outputs": []
    },
    {
      "cell_type": "markdown",
      "source": [
        "# New Section"
      ],
      "metadata": {
        "id": "kYDptKc44rpZ"
      }
    }
  ]
}